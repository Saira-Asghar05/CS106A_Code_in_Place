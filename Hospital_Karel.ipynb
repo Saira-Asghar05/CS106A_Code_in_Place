{
  "nbformat": 4,
  "nbformat_minor": 0,
  "metadata": {
    "colab": {
      "provenance": []
    },
    "kernelspec": {
      "name": "python3",
      "display_name": "Python 3"
    },
    "language_info": {
      "name": "python"
    }
  },
  "cells": [
    {
      "cell_type": "code",
      "execution_count": null,
      "metadata": {
        "id": "kMScrEBmHdEt"
      },
      "outputs": [],
      "source": [
        "from karel.stanfordkarel import *\n",
        "\n",
        "def turn_right():\n",
        "    for i in range(3):\n",
        "        turn_left()\n",
        "\n",
        "def move_and_place():\n",
        "    move()\n",
        "    put_beeper()\n",
        "\n",
        "def left_wall():\n",
        "    turn_left()\n",
        "    for i in range(2):\n",
        "        move_and_place()\n",
        "    turn_right()\n",
        "\n",
        "def top_wall():\n",
        "    move_and_place()\n",
        "    turn_right()\n",
        "\n",
        "def right_wall():\n",
        "    for i in range(2):\n",
        "        move_and_place()\n",
        "    turn_left()\n",
        "\n",
        "def build_hospital():\n",
        "    left_wall()\n",
        "    top_wall()\n",
        "    right_wall()\n",
        "\n",
        "def safe_move():\n",
        "    if front_is_clear():\n",
        "        move()\n",
        "\n",
        "def main():\n",
        "    # keep moving to the right\n",
        "    # whenever find a beeper\n",
        "    # build hospital\n",
        "    # keep moving right until end of the world\n",
        "\n",
        "    while front_is_clear():\n",
        "        if beepers_present():\n",
        "            build_hospital()\n",
        "        safe_move()\n",
        "\n",
        "\n",
        "if __name__ == '__main__':\n",
        "    main()"
      ]
    }
  ]
}